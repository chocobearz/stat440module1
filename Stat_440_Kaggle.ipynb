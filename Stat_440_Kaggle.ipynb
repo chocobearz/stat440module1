{
  "nbformat": 4,
  "nbformat_minor": 0,
  "metadata": {
    "colab": {
      "name": "Stat 440 Kaggle.ipynb",
      "provenance": [],
      "collapsed_sections": []
    },
    "kernelspec": {
      "name": "python3",
      "display_name": "Python 3"
    }
  },
  "cells": [
    {
      "cell_type": "code",
      "metadata": {
        "id": "zAEtzJjuPIbc"
      },
      "source": [
        "# Install fastai\n",
        "!pip install fastai -q\n",
        "!pip install fastai --upgrade"
      ],
      "execution_count": null,
      "outputs": []
    },
    {
      "cell_type": "code",
      "metadata": {
        "id": "imxkAzOYrhy9"
      },
      "source": [
        "from fastai.tabular.all import *\n",
        "import pandas as pd\n",
        "import csv"
      ],
      "execution_count": 2,
      "outputs": []
    },
    {
      "cell_type": "markdown",
      "metadata": {
        "id": "ey3xkaS87kcm"
      },
      "source": [
        "Add the 'level1.csv' and 'test_level1.csv' files into the current directory. You can do this by clicking the folder icon on the left hand side and drag the csvs into the empty space."
      ]
    },
    {
      "cell_type": "code",
      "metadata": {
        "id": "XahODcyrqqNo"
      },
      "source": [
        "# Load the csv as a dataframe\n",
        "path = Path(\".\")\n",
        "df1 = pd.read_csv(path/'level2.csv')\n",
        "# Remove the id column from R's dataframe\n",
        "del df1['Unnamed: 0']"
      ],
      "execution_count": 27,
      "outputs": []
    },
    {
      "cell_type": "code",
      "metadata": {
        "id": "L2EzFGGCnqhb",
        "outputId": "035c6655-5510-44ad-8420-c10817f8e554",
        "colab": {
          "base_uri": "https://localhost:8080/",
          "height": 36
        }
      },
      "source": [
        "# Check the first categorical variable before duration\n",
        "###list(df1.columns)[6]"
      ],
      "execution_count": 28,
      "outputs": [
        {
          "output_type": "execute_result",
          "data": {
            "application/vnd.google.colaboratory.intrinsic+json": {
              "type": "string"
            },
            "text/plain": [
              "'confirmed'"
            ]
          },
          "metadata": {
            "tags": []
          },
          "execution_count": 28
        }
      ]
    },
    {
      "cell_type": "code",
      "metadata": {
        "id": "Vhv3Dtl0pr93",
        "outputId": "e231ab7a-9ec3-4bd3-c7ea-be85ad122db7",
        "colab": {
          "base_uri": "https://localhost:8080/",
          "height": 36
        }
      },
      "source": [
        "# Check duration\n",
        "###list(df1.columns)[7]"
      ],
      "execution_count": 29,
      "outputs": [
        {
          "output_type": "execute_result",
          "data": {
            "application/vnd.google.colaboratory.intrinsic+json": {
              "type": "string"
            },
            "text/plain": [
              "'duration'"
            ]
          },
          "metadata": {
            "tags": []
          },
          "execution_count": 29
        }
      ]
    },
    {
      "cell_type": "code",
      "metadata": {
        "id": "yHO4GL78ZZgf"
      },
      "source": [
        "# Get a list of categorical columns\n",
        "df1_cat = list(df1.columns)\n",
        "\n",
        "df1_cat = df1_cat[1:6] + df1_cat[9: ]\n",
        "# Only age and duration are numerical, the others are categorical"
      ],
      "execution_count": 31,
      "outputs": []
    },
    {
      "cell_type": "code",
      "metadata": {
        "id": "sA6rYjbeRDtY"
      },
      "source": [
        "# Convert confirmed date into datetime\n",
        "df1['confirmed'] = pd.to_datetime(df1['confirmed'])\n",
        "df1['confirmed'] = (df1['confirmed'] - pd.to_datetime('1970-01-01')).dt.total_seconds()"
      ],
      "execution_count": 32,
      "outputs": []
    },
    {
      "cell_type": "code",
      "metadata": {
        "id": "M7s8hkQJh45p",
        "outputId": "48d508e4-8cbb-490f-851e-1d26bba2846b",
        "colab": {
          "base_uri": "https://localhost:8080/",
          "height": 36
        }
      },
      "source": [
        "# Get a list of numerical columns, not counting the thing we're predicting\n",
        "df1_num = list(df1.columns)\n",
        "df1_num = df1_num[6:7] + df1_num[8:9]\n",
        "# The only numerical columns are the age and duration\n",
        "# We don't include duration because we are predicting it\n",
        "\n",
        "# This column should be about age\n",
        "list(df1.columns)[8]"
      ],
      "execution_count": 33,
      "outputs": [
        {
          "output_type": "execute_result",
          "data": {
            "application/vnd.google.colaboratory.intrinsic+json": {
              "type": "string"
            },
            "text/plain": [
              "'clean_age'"
            ]
          },
          "metadata": {
            "tags": []
          },
          "execution_count": 33
        }
      ]
    },
    {
      "cell_type": "code",
      "metadata": {
        "id": "3L4WqYJtOj12"
      },
      "source": [
        "# Uncomment below to check types of the columns\n",
        "###df1.dtypes"
      ],
      "execution_count": 34,
      "outputs": []
    },
    {
      "cell_type": "code",
      "metadata": {
        "id": "H1ByGrW7pEtO"
      },
      "source": [
        "# I determined the y_range by using\n",
        "# ```max(merged_df1$duration)```\n",
        "# in R and adding one to the maximum. I remember it being recommended\n",
        "# by the fast.ai prof, I think because the neuron is asymptotic to\n",
        "# the maximum value, I'm not entirely sure."
      ],
      "execution_count": null,
      "outputs": []
    },
    {
      "cell_type": "code",
      "metadata": {
        "id": "mhdXRFbm3e0B"
      },
      "source": [
        "# Training and validation splits\n",
        "splits = RandomSplitter(valid_pct=0.2)(range_of(df1))"
      ],
      "execution_count": 37,
      "outputs": []
    },
    {
      "cell_type": "code",
      "metadata": {
        "id": "ecUOG3W-3ltk"
      },
      "source": [
        "# This is some a data cleaning step\n",
        "to = TabularPandas(df1, procs = [Categorify, FillMissing, Normalize],\n",
        "                   cat_names = df1_cat, cont_names = df1_num,\n",
        "                   y_names = 'duration',\n",
        "                   splits = splits)\n",
        "# This determines batch size\n",
        "dls = to.dataloaders(bs = 4)\n",
        "# If you get an error about nan values, try re-running the splits code chunk\n",
        "# above and then run this code chunk again"
      ],
      "execution_count": 40,
      "outputs": []
    },
    {
      "cell_type": "code",
      "metadata": {
        "id": "-nKFCYyu34g7"
      },
      "source": [
        "# y_range is used so that the model knows it's doing regression\n",
        "# I chose 33 because the max of the training duration is 32\n",
        "# We are using 2 hidden layers, 50 neurons in the first, 25 in the second\n",
        "learn = tabular_learner(dls, y_range = (0, 33), metrics = rmse,\n",
        "                        layers = [50, 25])"
      ],
      "execution_count": 41,
      "outputs": []
    },
    {
      "cell_type": "code",
      "metadata": {
        "id": "AL5DK3oN1IE5",
        "outputId": "2995e446-a23c-4f31-c8ad-ac4ebfd12160",
        "colab": {
          "base_uri": "https://localhost:8080/",
          "height": 300
        }
      },
      "source": [
        "# Use this to figure out what learning rate to use\n",
        "learn.recorder.lr_find()"
      ],
      "execution_count": 42,
      "outputs": [
        {
          "output_type": "display_data",
          "data": {
            "text/html": [
              ""
            ],
            "text/plain": [
              "<IPython.core.display.HTML object>"
            ]
          },
          "metadata": {
            "tags": []
          }
        },
        {
          "output_type": "execute_result",
          "data": {
            "text/plain": [
              "SuggestedLRs(lr_min=0.33113112449646, lr_steep=1.3182567499825382e-06)"
            ]
          },
          "metadata": {
            "tags": []
          },
          "execution_count": 42
        },
        {
          "output_type": "display_data",
          "data": {
            "image/png": "[encoded data removed]",
            "text/plain": [
              "<Figure size 432x288 with 1 Axes>"
            ]
          },
          "metadata": {
            "tags": [],
            "needs_background": "light"
          }
        }
      ]
    },
    {
      "cell_type": "code",
      "metadata": {
        "id": "6AWeQ8LgmjRo",
        "outputId": "ea99a1df-86f8-445b-bc07-557952290793",
        "colab": {
          "base_uri": "https://localhost:8080/",
          "height": 363
        }
      },
      "source": [
        "learn.fit_one_cycle(10, lr_max = 0.33, wd=0.8)"
      ],
      "execution_count": 43,
      "outputs": [
        {
          "output_type": "display_data",
          "data": {
            "text/html": [
              "<table border=\"1\" class=\"dataframe\">\n",
              "  <thead>\n",
              "    <tr style=\"text-align: left;\">\n",
              "      <th>epoch</th>\n",
              "      <th>train_loss</th>\n",
              "      <th>valid_loss</th>\n",
              "      <th>_rmse</th>\n",
              "      <th>time</th>\n",
              "    </tr>\n",
              "  </thead>\n",
              "  <tbody>\n",
              "    <tr>\n",
              "      <td>0</td>\n",
              "      <td>50.823151</td>\n",
              "      <td>23.783678</td>\n",
              "      <td>4.876851</td>\n",
              "      <td>00:00</td>\n",
              "    </tr>\n",
              "    <tr>\n",
              "      <td>1</td>\n",
              "      <td>35.880814</td>\n",
              "      <td>17.531881</td>\n",
              "      <td>4.187109</td>\n",
              "      <td>00:00</td>\n",
              "    </tr>\n",
              "    <tr>\n",
              "      <td>2</td>\n",
              "      <td>28.460505</td>\n",
              "      <td>15.069545</td>\n",
              "      <td>3.881951</td>\n",
              "      <td>00:00</td>\n",
              "    </tr>\n",
              "    <tr>\n",
              "      <td>3</td>\n",
              "      <td>25.337240</td>\n",
              "      <td>15.227373</td>\n",
              "      <td>3.902227</td>\n",
              "      <td>00:00</td>\n",
              "    </tr>\n",
              "    <tr>\n",
              "      <td>4</td>\n",
              "      <td>23.147476</td>\n",
              "      <td>15.766592</td>\n",
              "      <td>3.970717</td>\n",
              "      <td>00:00</td>\n",
              "    </tr>\n",
              "    <tr>\n",
              "      <td>5</td>\n",
              "      <td>23.449257</td>\n",
              "      <td>15.307306</td>\n",
              "      <td>3.912455</td>\n",
              "      <td>00:00</td>\n",
              "    </tr>\n",
              "    <tr>\n",
              "      <td>6</td>\n",
              "      <td>25.853559</td>\n",
              "      <td>16.175940</td>\n",
              "      <td>4.021933</td>\n",
              "      <td>00:00</td>\n",
              "    </tr>\n",
              "    <tr>\n",
              "      <td>7</td>\n",
              "      <td>26.365366</td>\n",
              "      <td>15.233017</td>\n",
              "      <td>3.902950</td>\n",
              "      <td>00:00</td>\n",
              "    </tr>\n",
              "    <tr>\n",
              "      <td>8</td>\n",
              "      <td>25.448305</td>\n",
              "      <td>15.744156</td>\n",
              "      <td>3.967891</td>\n",
              "      <td>00:00</td>\n",
              "    </tr>\n",
              "    <tr>\n",
              "      <td>9</td>\n",
              "      <td>25.671545</td>\n",
              "      <td>15.580338</td>\n",
              "      <td>3.947194</td>\n",
              "      <td>00:00</td>\n",
              "    </tr>\n",
              "  </tbody>\n",
              "</table>"
            ],
            "text/plain": [
              "<IPython.core.display.HTML object>"
            ]
          },
          "metadata": {
            "tags": []
          }
        }
      ]
    },
    {
      "cell_type": "markdown",
      "metadata": {
        "id": "hGU6z8O6sXjX"
      },
      "source": [
        ""
      ]
    },
    {
      "cell_type": "code",
      "metadata": {
        "id": "4PhAHxOHIo-U"
      },
      "source": [
        "# Load the test set\n",
        "df2 = pd.read_csv(path/'test_level2.csv')"
      ],
      "execution_count": 44,
      "outputs": []
    },
    {
      "cell_type": "code",
      "metadata": {
        "id": "M1bLMLTEm7nb",
        "outputId": "3d6fa1cf-9f3d-4682-c929-fc7235767c3a",
        "colab": {
          "base_uri": "https://localhost:8080/",
          "height": 36
        }
      },
      "source": [
        "# Look at the first column\n",
        "list(df2.columns)[0]"
      ],
      "execution_count": 45,
      "outputs": [
        {
          "output_type": "execute_result",
          "data": {
            "application/vnd.google.colaboratory.intrinsic+json": {
              "type": "string"
            },
            "text/plain": [
              "'Unnamed: 0'"
            ]
          },
          "metadata": {
            "tags": []
          },
          "execution_count": 45
        }
      ]
    },
    {
      "cell_type": "code",
      "metadata": {
        "id": "pSwI3bUFnJh3"
      },
      "source": [
        "# Remove the id column from R's dataframe\n",
        "del df2['Unnamed: 0']"
      ],
      "execution_count": 46,
      "outputs": []
    },
    {
      "cell_type": "code",
      "metadata": {
        "id": "fRUKV8o8T6d9"
      },
      "source": [
        "# Convert confirmed date into datetime\n",
        "df2['confirmed'] = pd.to_datetime(df2['confirmed'])\n",
        "df2['confirmed'] = (df2['confirmed'] - pd.to_datetime('1970-01-01')).dt.total_seconds()"
      ],
      "execution_count": 47,
      "outputs": []
    },
    {
      "cell_type": "code",
      "metadata": {
        "id": "48cDKMVV883c"
      },
      "source": [
        "# Create the test set data frame\n",
        "dl = learn.dls.test_dl(df2)"
      ],
      "execution_count": 48,
      "outputs": []
    },
    {
      "cell_type": "code",
      "metadata": {
        "id": "TJXOyIF89HdI",
        "outputId": "5f5cf8e7-1602-4eea-ff42-1138d44275ad",
        "colab": {
          "base_uri": "https://localhost:8080/",
          "height": 17
        }
      },
      "source": [
        "# Get the predictions from the model on the test set\n",
        "p1 = learn.get_preds(dl = dl)"
      ],
      "execution_count": 49,
      "outputs": [
        {
          "output_type": "display_data",
          "data": {
            "text/html": [
              ""
            ],
            "text/plain": [
              "<IPython.core.display.HTML object>"
            ]
          },
          "metadata": {
            "tags": []
          }
        }
      ]
    },
    {
      "cell_type": "code",
      "metadata": {
        "id": "L6Lmrk0Z9WAE"
      },
      "source": [
        "# Get the list of predictions\n",
        "p2 = p1[0].tolist()"
      ],
      "execution_count": 50,
      "outputs": []
    },
    {
      "cell_type": "code",
      "metadata": {
        "id": "fSm_-fh2_SKb",
        "outputId": "c4aa4f15-1387-4a6e-d86a-6bdd1cfdd705",
        "colab": {
          "base_uri": "https://localhost:8080/",
          "height": 34
        }
      },
      "source": [
        "# Print the predictions to a csv file\n",
        "with open('testing.csv', mode='w') as employee_file:\n",
        "  employee_writer = csv.writer(employee_file, delimiter = ',',\n",
        "                               quotechar = '\"', quoting = csv.QUOTE_MINIMAL)\n",
        "  employee_writer.writerow(p2)\n",
        "print(\"Done\")"
      ],
      "execution_count": 51,
      "outputs": [
        {
          "output_type": "stream",
          "text": [
            "Done\n"
          ],
          "name": "stdout"
        }
      ]
    }
  ]
}