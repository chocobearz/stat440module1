{
  "nbformat": 4,
  "nbformat_minor": 0,
  "metadata": {
    "colab": {
      "name": "Stat 440 Kaggle.ipynb",
      "provenance": [],
      "collapsed_sections": []
    },
    "kernelspec": {
      "name": "python3",
      "display_name": "Python 3"
    }
  },
  "cells": [
    {
      "cell_type": "code",
      "metadata": {
        "id": "zAEtzJjuPIbc"
      },
      "source": [
        "# Install fastai\n",
        "!pip install fastai -q\n",
        "!pip install fastai --upgrade"
      ],
      "execution_count": null,
      "outputs": []
    },
    {
      "cell_type": "code",
      "metadata": {
        "id": "imxkAzOYrhy9"
      },
      "source": [
        "from fastai.tabular.all import *\n",
        "import pandas as pd\n",
        "import csv"
      ],
      "execution_count": 101,
      "outputs": []
    },
    {
      "cell_type": "markdown",
      "metadata": {
        "id": "ey3xkaS87kcm"
      },
      "source": [
        "Add the 'level1.csv' and 'test_level1.csv' files into the current directory. You can do this by clicking the folder icon on the left hand side and drag the csvs into the empty space."
      ]
    },
    {
      "cell_type": "code",
      "metadata": {
        "id": "XahODcyrqqNo"
      },
      "source": [
        "# Load the csv as a dataframe\n",
        "path = Path(\".\")\n",
        "df1 = pd.read_csv(path/'level3.csv')\n",
        "# Remove the id column from R's dataframe\n",
        "del df1['Unnamed: 0']"
      ],
      "execution_count": 330,
      "outputs": []
    },
    {
      "cell_type": "code",
      "metadata": {
        "id": "L2EzFGGCnqhb"
      },
      "source": [
        "# Check the first categorical variable before duration\n",
        "###list(df1.columns)[6]"
      ],
      "execution_count": 103,
      "outputs": []
    },
    {
      "cell_type": "code",
      "metadata": {
        "id": "Vhv3Dtl0pr93"
      },
      "source": [
        "# Check duration\n",
        "###list(df1.columns)[7]"
      ],
      "execution_count": null,
      "outputs": []
    },
    {
      "cell_type": "code",
      "metadata": {
        "id": "yHO4GL78ZZgf"
      },
      "source": [
        "# Get a list of categorical columns\n",
        "df1_cat = list(df1.columns)\n",
        "\n",
        "###df1_cat = df1_cat[0:6] + df1_cat[9: ]\n",
        "\n",
        "# For level3\n",
        "df1_cat = df1_cat[0:6] + df1_cat[8: ]\n",
        "# Only age and duration are numerical, the others are categorical"
      ],
      "execution_count": 331,
      "outputs": []
    },
    {
      "cell_type": "code",
      "metadata": {
        "id": "3G1NaGSSjq5x"
      },
      "source": [
        "df1_cat"
      ],
      "execution_count": null,
      "outputs": []
    },
    {
      "cell_type": "code",
      "metadata": {
        "id": "sA6rYjbeRDtY"
      },
      "source": [
        "# Convert confirmed date into datetime\n",
        "df1['confirmed'] = pd.to_datetime(df1['confirmed'])\n",
        "df1['confirmed'] = (df1['confirmed'] - pd.to_datetime('1970-01-01')).dt.total_seconds()"
      ],
      "execution_count": 333,
      "outputs": []
    },
    {
      "cell_type": "code",
      "metadata": {
        "id": "M7s8hkQJh45p",
        "outputId": "f49685a7-d1b0-413b-9432-38d41aadeea1",
        "colab": {
          "base_uri": "https://localhost:8080/",
          "height": 36
        }
      },
      "source": [
        "# Get a list of numerical columns, not counting the thing we're predicting\n",
        "df1_num = list(df1.columns)\n",
        "###df1_num = df1_num[6:7] + df1_num[8:9]\n",
        "# Level 3 code\n",
        "df1_num = df1_num[6:7]\n",
        "# The only numerical columns are the age and duration\n",
        "# We don't include duration because we are predicting it\n",
        "\n",
        "# This column should be about age\n",
        "###list(df1.columns)[8]\n",
        "# Level 3 code\n",
        "list(df1.columns)[6] # Should be confirmed"
      ],
      "execution_count": 334,
      "outputs": [
        {
          "output_type": "execute_result",
          "data": {
            "application/vnd.google.colaboratory.intrinsic+json": {
              "type": "string"
            },
            "text/plain": [
              "'confirmed'"
            ]
          },
          "metadata": {
            "tags": []
          },
          "execution_count": 334
        }
      ]
    },
    {
      "cell_type": "code",
      "metadata": {
        "id": "3L4WqYJtOj12"
      },
      "source": [
        "# Uncomment below to check types of the columns\n",
        "###df1.dtypes"
      ],
      "execution_count": null,
      "outputs": []
    },
    {
      "cell_type": "code",
      "metadata": {
        "id": "H1ByGrW7pEtO"
      },
      "source": [
        "# I determined the y_range by using\n",
        "# ```max(merged_df1$duration)```\n",
        "# in R and adding one to the maximum. I remember it being recommended\n",
        "# by the fast.ai prof, I think because the neuron is asymptotic to\n",
        "# the maximum value, I'm not entirely sure."
      ],
      "execution_count": null,
      "outputs": []
    },
    {
      "cell_type": "code",
      "metadata": {
        "id": "mhdXRFbm3e0B"
      },
      "source": [
        "# Training and validation splits\n",
        "splits = RandomSplitter(valid_pct=0.2)(range_of(df1))"
      ],
      "execution_count": 337,
      "outputs": []
    },
    {
      "cell_type": "code",
      "metadata": {
        "id": "ecUOG3W-3ltk"
      },
      "source": [
        "# This is some a data cleaning step\n",
        "to = TabularPandas(df1, procs = [Categorify, FillMissing, Normalize],\n",
        "                   cat_names = df1_cat, cont_names = df1_num,\n",
        "                   y_names = 'duration',\n",
        "                   splits = splits)\n",
        "# This determines batch size\n",
        "dls = to.dataloaders(bs = 4)\n",
        "# If you get an error about nan values, try re-running the splits code chunk\n",
        "# above and then run this code chunk again"
      ],
      "execution_count": 338,
      "outputs": []
    },
    {
      "cell_type": "code",
      "metadata": {
        "id": "-nKFCYyu34g7"
      },
      "source": [
        "# y_range is used so that the model knows it's doing regression\n",
        "# I chose 33 because the max of the training duration is 32\n",
        "# We are using 2 hidden layers, 50 neurons in the first, 25 in the second\n",
        "learn = tabular_learner(dls, y_range = (0, 33), metrics = rmse,\n",
        "                        layers = [30, 15])\n",
        "# Good layers is layers = [50, 25]"
      ],
      "execution_count": 339,
      "outputs": []
    },
    {
      "cell_type": "code",
      "metadata": {
        "id": "AL5DK3oN1IE5",
        "outputId": "aec237a6-b3fd-43ad-d1e4-09770c71eeb6",
        "colab": {
          "base_uri": "https://localhost:8080/",
          "height": 300
        }
      },
      "source": [
        "# Use this to figure out what learning rate to use\n",
        "learn.recorder.lr_find()"
      ],
      "execution_count": 340,
      "outputs": [
        {
          "output_type": "display_data",
          "data": {
            "text/html": [
              ""
            ],
            "text/plain": [
              "<IPython.core.display.HTML object>"
            ]
          },
          "metadata": {
            "tags": []
          }
        },
        {
          "output_type": "execute_result",
          "data": {
            "text/plain": [
              "SuggestedLRs(lr_min=0.33113112449646, lr_steep=1.3182567499825382e-06)"
            ]
          },
          "metadata": {
            "tags": []
          },
          "execution_count": 340
        },
        {
          "output_type": "display_data",
          "data": {
            "image/png": "[encoded data removed]",
            "text/plain": [
              "<Figure size 432x288 with 1 Axes>"
            ]
          },
          "metadata": {
            "tags": [],
            "needs_background": "light"
          }
        }
      ]
    },
    {
      "cell_type": "code",
      "metadata": {
        "id": "6AWeQ8LgmjRo",
        "outputId": "fbea2d71-12e8-4a64-96b2-1d618c15498c",
        "colab": {
          "base_uri": "https://localhost:8080/",
          "height": 363
        }
      },
      "source": [
        "learn.fit_one_cycle(10, lr_max = 0.0398, wd=0.8)\n",
        "# Without moms=(0.8, 0.2, 0.8): 5.0498"
      ],
      "execution_count": 341,
      "outputs": [
        {
          "output_type": "display_data",
          "data": {
            "text/html": [
              "<table border=\"1\" class=\"dataframe\">\n",
              "  <thead>\n",
              "    <tr style=\"text-align: left;\">\n",
              "      <th>epoch</th>\n",
              "      <th>train_loss</th>\n",
              "      <th>valid_loss</th>\n",
              "      <th>_rmse</th>\n",
              "      <th>time</th>\n",
              "    </tr>\n",
              "  </thead>\n",
              "  <tbody>\n",
              "    <tr>\n",
              "      <td>0</td>\n",
              "      <td>120.995781</td>\n",
              "      <td>29.981272</td>\n",
              "      <td>5.475516</td>\n",
              "      <td>00:00</td>\n",
              "    </tr>\n",
              "    <tr>\n",
              "      <td>1</td>\n",
              "      <td>55.027359</td>\n",
              "      <td>13.128194</td>\n",
              "      <td>3.623285</td>\n",
              "      <td>00:00</td>\n",
              "    </tr>\n",
              "    <tr>\n",
              "      <td>2</td>\n",
              "      <td>39.453331</td>\n",
              "      <td>14.824367</td>\n",
              "      <td>3.850242</td>\n",
              "      <td>00:00</td>\n",
              "    </tr>\n",
              "    <tr>\n",
              "      <td>3</td>\n",
              "      <td>36.112686</td>\n",
              "      <td>23.225632</td>\n",
              "      <td>4.819298</td>\n",
              "      <td>00:00</td>\n",
              "    </tr>\n",
              "    <tr>\n",
              "      <td>4</td>\n",
              "      <td>31.753130</td>\n",
              "      <td>23.696093</td>\n",
              "      <td>4.867863</td>\n",
              "      <td>00:00</td>\n",
              "    </tr>\n",
              "    <tr>\n",
              "      <td>5</td>\n",
              "      <td>27.032227</td>\n",
              "      <td>15.310551</td>\n",
              "      <td>3.912870</td>\n",
              "      <td>00:00</td>\n",
              "    </tr>\n",
              "    <tr>\n",
              "      <td>6</td>\n",
              "      <td>23.353010</td>\n",
              "      <td>20.725100</td>\n",
              "      <td>4.552483</td>\n",
              "      <td>00:00</td>\n",
              "    </tr>\n",
              "    <tr>\n",
              "      <td>7</td>\n",
              "      <td>21.588772</td>\n",
              "      <td>13.344761</td>\n",
              "      <td>3.653048</td>\n",
              "      <td>00:00</td>\n",
              "    </tr>\n",
              "    <tr>\n",
              "      <td>8</td>\n",
              "      <td>21.333654</td>\n",
              "      <td>10.294392</td>\n",
              "      <td>3.208487</td>\n",
              "      <td>00:00</td>\n",
              "    </tr>\n",
              "    <tr>\n",
              "      <td>9</td>\n",
              "      <td>18.748692</td>\n",
              "      <td>10.973211</td>\n",
              "      <td>3.312584</td>\n",
              "      <td>00:00</td>\n",
              "    </tr>\n",
              "  </tbody>\n",
              "</table>"
            ],
            "text/plain": [
              "<IPython.core.display.HTML object>"
            ]
          },
          "metadata": {
            "tags": []
          }
        }
      ]
    },
    {
      "cell_type": "markdown",
      "metadata": {
        "id": "hGU6z8O6sXjX"
      },
      "source": [
        ""
      ]
    },
    {
      "cell_type": "code",
      "metadata": {
        "id": "4PhAHxOHIo-U"
      },
      "source": [
        "# Load the test set\n",
        "df2 = pd.read_csv(path/'test_level3.csv')"
      ],
      "execution_count": 342,
      "outputs": []
    },
    {
      "cell_type": "code",
      "metadata": {
        "id": "M1bLMLTEm7nb",
        "outputId": "ffca244a-e32a-4c7e-96c4-c2f3e1d6d726",
        "colab": {
          "base_uri": "https://localhost:8080/",
          "height": 36
        }
      },
      "source": [
        "# Look at the first column\n",
        "list(df2.columns)[0]"
      ],
      "execution_count": 343,
      "outputs": [
        {
          "output_type": "execute_result",
          "data": {
            "application/vnd.google.colaboratory.intrinsic+json": {
              "type": "string"
            },
            "text/plain": [
              "'Unnamed: 0'"
            ]
          },
          "metadata": {
            "tags": []
          },
          "execution_count": 343
        }
      ]
    },
    {
      "cell_type": "code",
      "metadata": {
        "id": "pSwI3bUFnJh3"
      },
      "source": [
        "# Remove the id column from R's dataframe\n",
        "del df2['Unnamed: 0']"
      ],
      "execution_count": 344,
      "outputs": []
    },
    {
      "cell_type": "code",
      "metadata": {
        "id": "fRUKV8o8T6d9"
      },
      "source": [
        "# Convert confirmed date into datetime\n",
        "df2['confirmed'] = pd.to_datetime(df2['confirmed'])\n",
        "df2['confirmed'] = (df2['confirmed'] - pd.to_datetime('1970-01-01')).dt.total_seconds()"
      ],
      "execution_count": 345,
      "outputs": []
    },
    {
      "cell_type": "code",
      "metadata": {
        "id": "48cDKMVV883c"
      },
      "source": [
        "# Create the test set data frame\n",
        "dl = learn.dls.test_dl(df2)"
      ],
      "execution_count": 346,
      "outputs": []
    },
    {
      "cell_type": "code",
      "metadata": {
        "id": "TJXOyIF89HdI",
        "outputId": "0dc33cf9-f78b-48a3-f05e-e09066fcb85e",
        "colab": {
          "base_uri": "https://localhost:8080/",
          "height": 17
        }
      },
      "source": [
        "# Get the predictions from the model on the test set\n",
        "p1 = learn.get_preds(dl = dl)"
      ],
      "execution_count": 347,
      "outputs": [
        {
          "output_type": "display_data",
          "data": {
            "text/html": [
              ""
            ],
            "text/plain": [
              "<IPython.core.display.HTML object>"
            ]
          },
          "metadata": {
            "tags": []
          }
        }
      ]
    },
    {
      "cell_type": "code",
      "metadata": {
        "id": "L6Lmrk0Z9WAE"
      },
      "source": [
        "# Get the list of predictions\n",
        "p2 = p1[0].tolist()"
      ],
      "execution_count": 348,
      "outputs": []
    },
    {
      "cell_type": "code",
      "metadata": {
        "id": "fSm_-fh2_SKb",
        "outputId": "96c2cb4b-2a2d-4bda-d931-33887a2096d7",
        "colab": {
          "base_uri": "https://localhost:8080/",
          "height": 34
        }
      },
      "source": [
        "# Print the predictions to a csv file\n",
        "with open('testing.csv', mode='w') as employee_file:\n",
        "  employee_writer = csv.writer(employee_file, delimiter = ',',\n",
        "                               quotechar = '\"', quoting = csv.QUOTE_MINIMAL)\n",
        "  employee_writer.writerow(p2)\n",
        "print(\"Done\")"
      ],
      "execution_count": 349,
      "outputs": [
        {
          "output_type": "stream",
          "text": [
            "Done\n"
          ],
          "name": "stdout"
        }
      ]
    }
  ]
}