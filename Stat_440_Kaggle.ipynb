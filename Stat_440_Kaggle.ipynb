{
  "nbformat": 4,
  "nbformat_minor": 0,
  "metadata": {
    "colab": {
      "name": "Stat 440 Kaggle.ipynb",
      "provenance": [],
      "collapsed_sections": []
    },
    "kernelspec": {
      "name": "python3",
      "display_name": "Python 3"
    }
  },
  "cells": [
    {
      "cell_type": "code",
      "metadata": {
        "id": "zAEtzJjuPIbc"
      },
      "source": [
        "# Install fastai\n",
        "!pip install fastai -q\n",
        "!pip install fastai --upgrade"
      ],
      "execution_count": null,
      "outputs": []
    },
    {
      "cell_type": "code",
      "metadata": {
        "id": "imxkAzOYrhy9"
      },
      "source": [
        "from fastai.tabular.all import *\n",
        "import pandas as pd\n",
        "import csv"
      ],
      "execution_count": null,
      "outputs": []
    },
    {
      "cell_type": "code",
      "metadata": {
        "id": "XahODcyrqqNo"
      },
      "source": [
        "# Load the csv as a dataframe\n",
        "path = Path(\".\")\n",
        "df = pd.read_csv(path/'finally.csv')\n",
        "# Remove the id column from R's dataframe\n",
        "del df['Unnamed: 0']"
      ],
      "execution_count": null,
      "outputs": []
    },
    {
      "cell_type": "code",
      "metadata": {
        "id": "yHO4GL78ZZgf"
      },
      "source": [
        "# Get a list of categorical columns\n",
        "df_cat = list(df.columns)\n",
        "\n",
        "df_cat = df_cat[0:6] + df_cat[8: ]\n",
        "# Only age and duration are numerical, the others are categorical"
      ],
      "execution_count": null,
      "outputs": []
    },
    {
      "cell_type": "code",
      "metadata": {
        "id": "M7s8hkQJh45p"
      },
      "source": [
        "# Get a list of numerical columns, not counting the thing we're predicting\n",
        "df_num = list(df.columns)[7:8]"
      ],
      "execution_count": null,
      "outputs": []
    },
    {
      "cell_type": "code",
      "metadata": {
        "id": "l9-GEDawiLQT"
      },
      "source": [
        "# Use the fast.ai tabular dataloader\n",
        "\n",
        "dls = TabularDataLoaders.from_csv(\n",
        "    path/'finally.csv', y_names = \"duration\",\n",
        "    cat_names = df_cat, cont_names = df_num,\n",
        "    procs = [Categorify, FillMissing, Normalize]\n",
        "    )\n",
        "\n",
        "learn = tabular_learner(dls, y_range = (0, 33),  metrics = accuracy)"
      ],
      "execution_count": null,
      "outputs": []
    },
    {
      "cell_type": "code",
      "metadata": {
        "id": "mhdXRFbm3e0B"
      },
      "source": [
        "splits = RandomSplitter(valid_pct=0.2)(range_of(df))"
      ],
      "execution_count": null,
      "outputs": []
    },
    {
      "cell_type": "code",
      "metadata": {
        "id": "ecUOG3W-3ltk"
      },
      "source": [
        "to = TabularPandas(df, procs = [Categorify, FillMissing, Normalize],\n",
        "                   cat_names = df_cat, cont_names = df_num,\n",
        "                   y_names = 'duration',\n",
        "                   splits = splits)\n",
        "\n",
        "dls = to.dataloaders(bs = 16)"
      ],
      "execution_count": null,
      "outputs": []
    },
    {
      "cell_type": "code",
      "metadata": {
        "id": "-nKFCYyu34g7"
      },
      "source": [
        "learn = tabular_learner(dls, y_range = (0, 33), metrics = rmse)"
      ],
      "execution_count": null,
      "outputs": []
    },
    {
      "cell_type": "code",
      "metadata": {
        "id": "6AWeQ8LgmjRo",
        "outputId": "3831f1f5-8542-4eaa-831a-9026bd05593b",
        "colab": {
          "base_uri": "https://localhost:8080/",
          "height": 175
        }
      },
      "source": [
        "learn.fit_one_cycle(4, lr_max = 0.01)"
      ],
      "execution_count": null,
      "outputs": [
        {
          "output_type": "display_data",
          "data": {
            "text/html": [
              "<table border=\"1\" class=\"dataframe\">\n",
              "  <thead>\n",
              "    <tr style=\"text-align: left;\">\n",
              "      <th>epoch</th>\n",
              "      <th>train_loss</th>\n",
              "      <th>valid_loss</th>\n",
              "      <th>_rmse</th>\n",
              "      <th>time</th>\n",
              "    </tr>\n",
              "  </thead>\n",
              "  <tbody>\n",
              "    <tr>\n",
              "      <td>0</td>\n",
              "      <td>13.166378</td>\n",
              "      <td>16.848173</td>\n",
              "      <td>4.104652</td>\n",
              "      <td>00:00</td>\n",
              "    </tr>\n",
              "    <tr>\n",
              "      <td>1</td>\n",
              "      <td>14.907114</td>\n",
              "      <td>24.666842</td>\n",
              "      <td>4.966573</td>\n",
              "      <td>00:00</td>\n",
              "    </tr>\n",
              "    <tr>\n",
              "      <td>2</td>\n",
              "      <td>15.477958</td>\n",
              "      <td>34.251236</td>\n",
              "      <td>5.852456</td>\n",
              "      <td>00:00</td>\n",
              "    </tr>\n",
              "    <tr>\n",
              "      <td>3</td>\n",
              "      <td>14.255585</td>\n",
              "      <td>32.981781</td>\n",
              "      <td>5.742977</td>\n",
              "      <td>00:00</td>\n",
              "    </tr>\n",
              "  </tbody>\n",
              "</table>"
            ],
            "text/plain": [
              "<IPython.core.display.HTML object>"
            ]
          },
          "metadata": {
            "tags": []
          }
        }
      ]
    },
    {
      "cell_type": "code",
      "metadata": {
        "id": "0eNSXjxZ5UXy",
        "outputId": "2852ccc6-64a0-4ca6-e014-14e292294eda",
        "colab": {
          "base_uri": "https://localhost:8080/",
          "height": 86
        }
      },
      "source": [
        "learn.predict(learn.dls.train.all_cols.iloc[0])"
      ],
      "execution_count": null,
      "outputs": [
        {
          "output_type": "display_data",
          "data": {
            "text/html": [
              ""
            ],
            "text/plain": [
              "<IPython.core.display.HTML object>"
            ]
          },
          "metadata": {
            "tags": []
          }
        },
        {
          "output_type": "execute_result",
          "data": {
            "text/plain": [
              "(   sex  city  province  ...  age2_na      age2  duration\n",
              " 0  0.0   0.0       0.0  ...      1.0 -2.716655  9.437881\n",
              " \n",
              " [1 rows x 70 columns], tensor([9.4379]), tensor([9.4379]))"
            ]
          },
          "metadata": {
            "tags": []
          },
          "execution_count": 149
        }
      ]
    },
    {
      "cell_type": "code",
      "metadata": {
        "id": "AL5DK3oN1IE5"
      },
      "source": [
        "learn.export()"
      ],
      "execution_count": null,
      "outputs": []
    },
    {
      "cell_type": "code",
      "metadata": {
        "id": "_8jxlDfo5VRj",
        "outputId": "ad369bfd-6939-4914-ced9-157b166d246f",
        "colab": {
          "base_uri": "https://localhost:8080/",
          "height": 34
        }
      },
      "source": [
        "clas, probs"
      ],
      "execution_count": null,
      "outputs": [
        {
          "output_type": "execute_result",
          "data": {
            "text/plain": [
              "(tensor([23.0137]), tensor([23.0137]))"
            ]
          },
          "metadata": {
            "tags": []
          },
          "execution_count": 36
        }
      ]
    },
    {
      "cell_type": "code",
      "metadata": {
        "id": "4PhAHxOHIo-U"
      },
      "source": [
        "df2 = pd.read_csv(path/'finally_again.csv')"
      ],
      "execution_count": null,
      "outputs": []
    },
    {
      "cell_type": "code",
      "metadata": {
        "id": "oERFWyJY8lhw"
      },
      "source": [
        "to2 = TabularPandas(df, procs = [Categorify, FillMissing, Normalize],\n",
        "                    cat_names = df_cat, cont_names = df_num,\n",
        "                    y_names = 'duration',\n",
        "                    splits = splits)\n",
        "\n",
        "dls2 = to2.dataloaders(bs = 16)"
      ],
      "execution_count": null,
      "outputs": []
    },
    {
      "cell_type": "code",
      "metadata": {
        "id": "4AgiSso18vH2"
      },
      "source": [
        "learn = tabular_learner(dls, y_range = (0, 33), metrics = rmse)"
      ],
      "execution_count": null,
      "outputs": []
    },
    {
      "cell_type": "code",
      "metadata": {
        "id": "48cDKMVV883c"
      },
      "source": [
        "test_df = df2\n",
        "test_df.drop(['duration'], axis=1, inplace=True)\n",
        "dl = learn.dls.test_dl(test_df)"
      ],
      "execution_count": null,
      "outputs": []
    },
    {
      "cell_type": "code",
      "metadata": {
        "id": "TJXOyIF89HdI",
        "outputId": "1d69820b-c5b5-4459-ecbd-8f5d27c423d7",
        "colab": {
          "base_uri": "https://localhost:8080/",
          "height": 17
        }
      },
      "source": [
        "p1 = learn.get_preds(dl = dl)"
      ],
      "execution_count": null,
      "outputs": [
        {
          "output_type": "display_data",
          "data": {
            "text/html": [
              ""
            ],
            "text/plain": [
              "<IPython.core.display.HTML object>"
            ]
          },
          "metadata": {
            "tags": []
          }
        }
      ]
    },
    {
      "cell_type": "code",
      "metadata": {
        "id": "L6Lmrk0Z9WAE"
      },
      "source": [
        "p2 = p1[0].tolist()"
      ],
      "execution_count": null,
      "outputs": []
    },
    {
      "cell_type": "code",
      "metadata": {
        "id": "fSm_-fh2_SKb",
        "outputId": "599dd80b-8725-45c6-8bf1-144a09d0f2a2",
        "colab": {
          "base_uri": "https://localhost:8080/",
          "height": 34
        }
      },
      "source": [
        " with open('testing.csv', mode='w') as employee_file:\n",
        "   employee_writer = csv.writer(employee_file, delimiter = ',',\n",
        "                                quotechar = '\"', quoting = csv.QUOTE_MINIMAL)\n",
        "   employee_writer.writerow(p2)\n",
        "print(\"Done\")"
      ],
      "execution_count": null,
      "outputs": [
        {
          "output_type": "stream",
          "text": [
            "Done\n"
          ],
          "name": "stdout"
        }
      ]
    }
  ]
}