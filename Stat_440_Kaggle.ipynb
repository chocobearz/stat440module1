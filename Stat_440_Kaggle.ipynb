{
  "nbformat": 4,
  "nbformat_minor": 0,
  "metadata": {
    "colab": {
      "name": "Stat 440 Kaggle.ipynb",
      "provenance": [],
      "collapsed_sections": []
    },
    "kernelspec": {
      "name": "python3",
      "display_name": "Python 3"
    }
  },
  "cells": [
    {
      "cell_type": "code",
      "metadata": {
        "id": "zAEtzJjuPIbc"
      },
      "source": [
        "# Install fastai\n",
        "!pip install fastai -q\n",
        "!pip install fastai --upgrade"
      ],
      "execution_count": null,
      "outputs": []
    },
    {
      "cell_type": "code",
      "metadata": {
        "id": "imxkAzOYrhy9"
      },
      "source": [
        "from fastai.tabular.all import *\n",
        "import pandas as pd\n",
        "import csv"
      ],
      "execution_count": 35,
      "outputs": []
    },
    {
      "cell_type": "code",
      "metadata": {
        "id": "XahODcyrqqNo"
      },
      "source": [
        "# Load the csv as a dataframe\n",
        "path = Path(\".\")\n",
        "df1 = pd.read_csv(path/'train2.csv')\n",
        "# Remove the id column from R's dataframe\n",
        "del df1['Unnamed: 0']"
      ],
      "execution_count": 36,
      "outputs": []
    },
    {
      "cell_type": "code",
      "metadata": {
        "id": "L2EzFGGCnqhb",
        "outputId": "cf90162a-7cdb-4116-d853-ea98e99170c1",
        "colab": {
          "base_uri": "https://localhost:8080/",
          "height": 36
        }
      },
      "source": [
        "# Check the first categorical variable before duration\n",
        "list(df1.columns)[6]"
      ],
      "execution_count": 37,
      "outputs": [
        {
          "output_type": "execute_result",
          "data": {
            "application/vnd.google.colaboratory.intrinsic+json": {
              "type": "string"
            },
            "text/plain": [
              "'confirmed'"
            ]
          },
          "metadata": {
            "tags": []
          },
          "execution_count": 37
        }
      ]
    },
    {
      "cell_type": "code",
      "metadata": {
        "id": "Vhv3Dtl0pr93",
        "outputId": "54c959d6-0ef9-4d3c-fa91-5e644faa841d",
        "colab": {
          "base_uri": "https://localhost:8080/",
          "height": 36
        }
      },
      "source": [
        "# Check duration\n",
        "list(df1.columns)[7]"
      ],
      "execution_count": 38,
      "outputs": [
        {
          "output_type": "execute_result",
          "data": {
            "application/vnd.google.colaboratory.intrinsic+json": {
              "type": "string"
            },
            "text/plain": [
              "'duration'"
            ]
          },
          "metadata": {
            "tags": []
          },
          "execution_count": 38
        }
      ]
    },
    {
      "cell_type": "code",
      "metadata": {
        "id": "yHO4GL78ZZgf"
      },
      "source": [
        "# Get a list of categorical columns\n",
        "df1_cat = list(df1.columns)\n",
        "\n",
        "df1_cat = df1_cat[0:7] + df1_cat[9: ]\n",
        "# Only age and duration are numerical, the others are categorical"
      ],
      "execution_count": 43,
      "outputs": []
    },
    {
      "cell_type": "code",
      "metadata": {
        "id": "M7s8hkQJh45p",
        "outputId": "f89db2cd-cb10-4005-b886-29e5a5c101be",
        "colab": {
          "base_uri": "https://localhost:8080/",
          "height": 36
        }
      },
      "source": [
        "# Get a list of numerical columns, not counting the thing we're predicting\n",
        "df1_num = list(df1.columns)[8:9]\n",
        "# The only numerical columns are the age and duration\n",
        "# We don't include duration because we are predicting it\n",
        "list(df1.columns)[8]\n",
        "# This column should be about age"
      ],
      "execution_count": 44,
      "outputs": [
        {
          "output_type": "execute_result",
          "data": {
            "application/vnd.google.colaboratory.intrinsic+json": {
              "type": "string"
            },
            "text/plain": [
              "'clean_age'"
            ]
          },
          "metadata": {
            "tags": []
          },
          "execution_count": 44
        }
      ]
    },
    {
      "cell_type": "code",
      "metadata": {
        "id": "H1ByGrW7pEtO"
      },
      "source": [
        "# I determined the y_range by using\n",
        "# ```max(merged_df1$duration)```\n",
        "# in R and adding one to the maximum. I remember it being recommended\n",
        "# by the fast.ai prof, I think because the neuron is asymptotic to\n",
        "# the maximum value, I'm not entirely sure."
      ],
      "execution_count": 41,
      "outputs": []
    },
    {
      "cell_type": "code",
      "metadata": {
        "id": "mhdXRFbm3e0B"
      },
      "source": [
        "# Training and validation splits\n",
        "splits = RandomSplitter(valid_pct=0.2)(range_of(df1))"
      ],
      "execution_count": 45,
      "outputs": []
    },
    {
      "cell_type": "code",
      "metadata": {
        "id": "ecUOG3W-3ltk"
      },
      "source": [
        "# This is some a data cleaning step\n",
        "to = TabularPandas(df1, procs = [Categorify, FillMissing, Normalize],\n",
        "                   cat_names = df1_cat, cont_names = df1_num,\n",
        "                   y_names = 'duration',\n",
        "                   splits = splits)\n",
        "# This determines batch size\n",
        "dls = to.dataloaders(bs = 4)"
      ],
      "execution_count": 184,
      "outputs": []
    },
    {
      "cell_type": "code",
      "metadata": {
        "id": "-nKFCYyu34g7"
      },
      "source": [
        "# y_range is used so that the model knows it's doing regression\n",
        "# I chose 33 because the max of the training duration is 32\n",
        "# We are using 2 hidden layers, 50 neurons in the first, 25 in the second\n",
        "learn = tabular_learner(dls, y_range = (0, 33), metrics = rmse,\n",
        "                        layers = [50, 25])"
      ],
      "execution_count": 254,
      "outputs": []
    },
    {
      "cell_type": "code",
      "metadata": {
        "id": "6AWeQ8LgmjRo",
        "outputId": "13176946-4a0d-4796-f6bb-eebf6af289a0",
        "colab": {
          "base_uri": "https://localhost:8080/",
          "height": 520
        }
      },
      "source": [
        "learn.fit_one_cycle(15, lr_max = 0.30, wd=0.8)"
      ],
      "execution_count": 256,
      "outputs": [
        {
          "output_type": "display_data",
          "data": {
            "text/html": [
              "<table border=\"1\" class=\"dataframe\">\n",
              "  <thead>\n",
              "    <tr style=\"text-align: left;\">\n",
              "      <th>epoch</th>\n",
              "      <th>train_loss</th>\n",
              "      <th>valid_loss</th>\n",
              "      <th>_rmse</th>\n",
              "      <th>time</th>\n",
              "    </tr>\n",
              "  </thead>\n",
              "  <tbody>\n",
              "    <tr>\n",
              "      <td>0</td>\n",
              "      <td>47.034763</td>\n",
              "      <td>15.360549</td>\n",
              "      <td>3.919254</td>\n",
              "      <td>00:01</td>\n",
              "    </tr>\n",
              "    <tr>\n",
              "      <td>1</td>\n",
              "      <td>58.787998</td>\n",
              "      <td>21.372093</td>\n",
              "      <td>4.622996</td>\n",
              "      <td>00:01</td>\n",
              "    </tr>\n",
              "    <tr>\n",
              "      <td>2</td>\n",
              "      <td>68.195641</td>\n",
              "      <td>21.269445</td>\n",
              "      <td>4.611881</td>\n",
              "      <td>00:01</td>\n",
              "    </tr>\n",
              "    <tr>\n",
              "      <td>3</td>\n",
              "      <td>49.638493</td>\n",
              "      <td>21.372093</td>\n",
              "      <td>4.622996</td>\n",
              "      <td>00:01</td>\n",
              "    </tr>\n",
              "    <tr>\n",
              "      <td>4</td>\n",
              "      <td>176.666290</td>\n",
              "      <td>13.311755</td>\n",
              "      <td>3.648528</td>\n",
              "      <td>00:00</td>\n",
              "    </tr>\n",
              "    <tr>\n",
              "      <td>5</td>\n",
              "      <td>88.049980</td>\n",
              "      <td>18.901302</td>\n",
              "      <td>4.347563</td>\n",
              "      <td>00:00</td>\n",
              "    </tr>\n",
              "    <tr>\n",
              "      <td>6</td>\n",
              "      <td>49.952652</td>\n",
              "      <td>13.484227</td>\n",
              "      <td>3.672088</td>\n",
              "      <td>00:00</td>\n",
              "    </tr>\n",
              "    <tr>\n",
              "      <td>7</td>\n",
              "      <td>33.920357</td>\n",
              "      <td>11.538023</td>\n",
              "      <td>3.396767</td>\n",
              "      <td>00:00</td>\n",
              "    </tr>\n",
              "    <tr>\n",
              "      <td>8</td>\n",
              "      <td>28.107014</td>\n",
              "      <td>11.431960</td>\n",
              "      <td>3.381118</td>\n",
              "      <td>00:00</td>\n",
              "    </tr>\n",
              "    <tr>\n",
              "      <td>9</td>\n",
              "      <td>25.892780</td>\n",
              "      <td>14.124069</td>\n",
              "      <td>3.758200</td>\n",
              "      <td>00:01</td>\n",
              "    </tr>\n",
              "    <tr>\n",
              "      <td>10</td>\n",
              "      <td>25.792746</td>\n",
              "      <td>15.000433</td>\n",
              "      <td>3.873039</td>\n",
              "      <td>00:00</td>\n",
              "    </tr>\n",
              "    <tr>\n",
              "      <td>11</td>\n",
              "      <td>26.237421</td>\n",
              "      <td>12.824020</td>\n",
              "      <td>3.581064</td>\n",
              "      <td>00:00</td>\n",
              "    </tr>\n",
              "    <tr>\n",
              "      <td>12</td>\n",
              "      <td>25.228737</td>\n",
              "      <td>13.837297</td>\n",
              "      <td>3.719852</td>\n",
              "      <td>00:00</td>\n",
              "    </tr>\n",
              "    <tr>\n",
              "      <td>13</td>\n",
              "      <td>26.563745</td>\n",
              "      <td>12.369176</td>\n",
              "      <td>3.516984</td>\n",
              "      <td>00:00</td>\n",
              "    </tr>\n",
              "    <tr>\n",
              "      <td>14</td>\n",
              "      <td>25.440538</td>\n",
              "      <td>12.549776</td>\n",
              "      <td>3.542567</td>\n",
              "      <td>00:00</td>\n",
              "    </tr>\n",
              "  </tbody>\n",
              "</table>"
            ],
            "text/plain": [
              "<IPython.core.display.HTML object>"
            ]
          },
          "metadata": {
            "tags": []
          }
        }
      ]
    },
    {
      "cell_type": "markdown",
      "metadata": {
        "id": "hGU6z8O6sXjX"
      },
      "source": [
        ""
      ]
    },
    {
      "cell_type": "code",
      "metadata": {
        "id": "AL5DK3oN1IE5",
        "outputId": "9f3a1270-592c-4a83-d492-d756b6c6bdf1",
        "colab": {
          "base_uri": "https://localhost:8080/",
          "height": 300
        }
      },
      "source": [
        "# Use this to figure out what learning rate to use\n",
        "learn.recorder.lr_find()"
      ],
      "execution_count": 255,
      "outputs": [
        {
          "output_type": "display_data",
          "data": {
            "text/html": [
              ""
            ],
            "text/plain": [
              "<IPython.core.display.HTML object>"
            ]
          },
          "metadata": {
            "tags": []
          }
        },
        {
          "output_type": "execute_result",
          "data": {
            "text/plain": [
              "SuggestedLRs(lr_min=0.33113112449646, lr_steep=1.9054607491852948e-06)"
            ]
          },
          "metadata": {
            "tags": []
          },
          "execution_count": 255
        },
        {
          "output_type": "display_data",
          "data": {
            "image/png": "[encoded data removed]",
            "text/plain": [
              "<Figure size 432x288 with 1 Axes>"
            ]
          },
          "metadata": {
            "tags": [],
            "needs_background": "light"
          }
        }
      ]
    },
    {
      "cell_type": "code",
      "metadata": {
        "id": "4PhAHxOHIo-U"
      },
      "source": [
        "# Load the test set\n",
        "df2 = pd.read_csv(path/'test2.csv')"
      ],
      "execution_count": 257,
      "outputs": []
    },
    {
      "cell_type": "code",
      "metadata": {
        "id": "M1bLMLTEm7nb",
        "outputId": "a431e241-1839-40e7-a22e-35f218d535d9",
        "colab": {
          "base_uri": "https://localhost:8080/",
          "height": 36
        }
      },
      "source": [
        "# Look at the first column\n",
        "list(df2.columns)[0]"
      ],
      "execution_count": 258,
      "outputs": [
        {
          "output_type": "execute_result",
          "data": {
            "application/vnd.google.colaboratory.intrinsic+json": {
              "type": "string"
            },
            "text/plain": [
              "'Unnamed: 0'"
            ]
          },
          "metadata": {
            "tags": []
          },
          "execution_count": 258
        }
      ]
    },
    {
      "cell_type": "code",
      "metadata": {
        "id": "pSwI3bUFnJh3"
      },
      "source": [
        "# Remove the id column from R's dataframe\n",
        "del df2['Unnamed: 0']"
      ],
      "execution_count": 259,
      "outputs": []
    },
    {
      "cell_type": "code",
      "metadata": {
        "id": "48cDKMVV883c"
      },
      "source": [
        "# Create the test set data frame\n",
        "dl = learn.dls.test_dl(df2)"
      ],
      "execution_count": 260,
      "outputs": []
    },
    {
      "cell_type": "code",
      "metadata": {
        "id": "TJXOyIF89HdI",
        "outputId": "7f04b821-9c7c-4f75-d9f3-15459050ef49",
        "colab": {
          "base_uri": "https://localhost:8080/",
          "height": 17
        }
      },
      "source": [
        "# Get the predictions from the model on the test set\n",
        "p1 = learn.get_preds(dl = dl)"
      ],
      "execution_count": 261,
      "outputs": [
        {
          "output_type": "display_data",
          "data": {
            "text/html": [
              ""
            ],
            "text/plain": [
              "<IPython.core.display.HTML object>"
            ]
          },
          "metadata": {
            "tags": []
          }
        }
      ]
    },
    {
      "cell_type": "code",
      "metadata": {
        "id": "L6Lmrk0Z9WAE"
      },
      "source": [
        "# Get the list of predictions\n",
        "p2 = p1[0].tolist()"
      ],
      "execution_count": 262,
      "outputs": []
    },
    {
      "cell_type": "code",
      "metadata": {
        "id": "fSm_-fh2_SKb",
        "outputId": "5fd70b76-3c8d-4c6c-94b4-05bc9a5b3720",
        "colab": {
          "base_uri": "https://localhost:8080/",
          "height": 34
        }
      },
      "source": [
        "# Print the predictions to a csv file\n",
        "with open('testing.csv', mode='w') as employee_file:\n",
        "  employee_writer = csv.writer(employee_file, delimiter = ',',\n",
        "                               quotechar = '\"', quoting = csv.QUOTE_MINIMAL)\n",
        "  employee_writer.writerow(p2)\n",
        "print(\"Done\")"
      ],
      "execution_count": 264,
      "outputs": [
        {
          "output_type": "stream",
          "text": [
            "Done\n"
          ],
          "name": "stdout"
        }
      ]
    }
  ]
}