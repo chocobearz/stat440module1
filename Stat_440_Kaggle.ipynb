{
  "nbformat": 4,
  "nbformat_minor": 0,
  "metadata": {
    "colab": {
      "name": "Stat 440 Kaggle.ipynb",
      "provenance": [],
      "collapsed_sections": []
    },
    "kernelspec": {
      "name": "python3",
      "display_name": "Python 3"
    }
  },
  "cells": [
    {
      "cell_type": "code",
      "metadata": {
        "id": "zAEtzJjuPIbc"
      },
      "source": [
        "# Install fastai\n",
        "!pip install fastai -q\n",
        "!pip install fastai --upgrade"
      ],
      "execution_count": null,
      "outputs": []
    },
    {
      "cell_type": "code",
      "metadata": {
        "id": "imxkAzOYrhy9"
      },
      "source": [
        "from fastai.tabular.all import *\n",
        "import pandas as pd\n",
        "import csv"
      ],
      "execution_count": 2,
      "outputs": []
    },
    {
      "cell_type": "markdown",
      "metadata": {
        "id": "ey3xkaS87kcm"
      },
      "source": [
        "Add the 'level1.csv' and 'test_level1.csv' files into the current directory. You can do this by clicking the folder icon on the left hand side and drag the csvs into the empty space."
      ]
    },
    {
      "cell_type": "code",
      "metadata": {
        "id": "XahODcyrqqNo"
      },
      "source": [
        "# Load the csv as a dataframe\n",
        "path = Path(\".\")\n",
        "df1 = pd.read_csv(path/'level1.csv')\n",
        "# Remove the id column from R's dataframe\n",
        "del df1['Unnamed: 0']"
      ],
      "execution_count": 7,
      "outputs": []
    },
    {
      "cell_type": "code",
      "metadata": {
        "id": "L2EzFGGCnqhb",
        "outputId": "6dfbf3fb-60ef-4df2-cf62-a106e2eb8226",
        "colab": {
          "base_uri": "https://localhost:8080/",
          "height": 36
        }
      },
      "source": [
        "# Check the first categorical variable before duration\n",
        "list(df1.columns)[6]"
      ],
      "execution_count": 8,
      "outputs": [
        {
          "output_type": "execute_result",
          "data": {
            "application/vnd.google.colaboratory.intrinsic+json": {
              "type": "string"
            },
            "text/plain": [
              "'confirmed'"
            ]
          },
          "metadata": {
            "tags": []
          },
          "execution_count": 8
        }
      ]
    },
    {
      "cell_type": "code",
      "metadata": {
        "id": "Vhv3Dtl0pr93",
        "outputId": "178c818c-b3e2-4f39-bd80-77cd2527bad8",
        "colab": {
          "base_uri": "https://localhost:8080/",
          "height": 36
        }
      },
      "source": [
        "# Check duration\n",
        "list(df1.columns)[7]"
      ],
      "execution_count": 9,
      "outputs": [
        {
          "output_type": "execute_result",
          "data": {
            "application/vnd.google.colaboratory.intrinsic+json": {
              "type": "string"
            },
            "text/plain": [
              "'duration'"
            ]
          },
          "metadata": {
            "tags": []
          },
          "execution_count": 9
        }
      ]
    },
    {
      "cell_type": "code",
      "metadata": {
        "id": "v90yLisjM99w",
        "outputId": "9ac7417d-99b0-4cb5-d976-b82c1631ed13",
        "colab": {
          "base_uri": "https://localhost:8080/",
          "height": 36
        }
      },
      "source": [
        "list(df1.columns)[12]"
      ],
      "execution_count": 10,
      "outputs": [
        {
          "output_type": "execute_result",
          "data": {
            "application/vnd.google.colaboratory.intrinsic+json": {
              "type": "string"
            },
            "text/plain": [
              "'respiratory symptoms'"
            ]
          },
          "metadata": {
            "tags": []
          },
          "execution_count": 10
        }
      ]
    },
    {
      "cell_type": "code",
      "metadata": {
        "id": "yHO4GL78ZZgf"
      },
      "source": [
        "# Get a list of categorical columns\n",
        "df1_cat = list(df1.columns)\n",
        "\n",
        "df1_cat = df1_cat[1:6] + df1_cat[9: ]\n",
        "# Only age and duration are numerical, the others are categorical"
      ],
      "execution_count": 11,
      "outputs": []
    },
    {
      "cell_type": "code",
      "metadata": {
        "id": "sA6rYjbeRDtY"
      },
      "source": [
        "# Convert confirmed date into datetime\n",
        "df1['confirmed'] = pd.to_datetime(df1['confirmed'])\n",
        "df1['confirmed'] = (df1['confirmed'] - pd.to_datetime('1970-01-01')).dt.total_seconds()"
      ],
      "execution_count": 12,
      "outputs": []
    },
    {
      "cell_type": "code",
      "metadata": {
        "id": "M7s8hkQJh45p",
        "outputId": "309c67d8-d547-4dcd-e522-8f9e8f5b6d1e",
        "colab": {
          "base_uri": "https://localhost:8080/",
          "height": 36
        }
      },
      "source": [
        "# Get a list of numerical columns, not counting the thing we're predicting\n",
        "df1_num = list(df1.columns)\n",
        "df1_num = df1_num[6:7] + df1_num[8:9]\n",
        "# The only numerical columns are the age and duration\n",
        "# We don't include duration because we are predicting it\n",
        "list(df1.columns)[8]\n",
        "# This column should be about age"
      ],
      "execution_count": 13,
      "outputs": [
        {
          "output_type": "execute_result",
          "data": {
            "application/vnd.google.colaboratory.intrinsic+json": {
              "type": "string"
            },
            "text/plain": [
              "'clean_age'"
            ]
          },
          "metadata": {
            "tags": []
          },
          "execution_count": 13
        }
      ]
    },
    {
      "cell_type": "code",
      "metadata": {
        "id": "3L4WqYJtOj12"
      },
      "source": [
        "# Uncomment below to check types of the columns\n",
        "###df1.dtypes"
      ],
      "execution_count": null,
      "outputs": []
    },
    {
      "cell_type": "code",
      "metadata": {
        "id": "H1ByGrW7pEtO"
      },
      "source": [
        "# I determined the y_range by using\n",
        "# ```max(merged_df1$duration)```\n",
        "# in R and adding one to the maximum. I remember it being recommended\n",
        "# by the fast.ai prof, I think because the neuron is asymptotic to\n",
        "# the maximum value, I'm not entirely sure."
      ],
      "execution_count": null,
      "outputs": []
    },
    {
      "cell_type": "code",
      "metadata": {
        "id": "mhdXRFbm3e0B"
      },
      "source": [
        "# Training and validation splits\n",
        "splits = RandomSplitter(valid_pct=0.2)(range_of(df1))"
      ],
      "execution_count": 14,
      "outputs": []
    },
    {
      "cell_type": "code",
      "metadata": {
        "id": "ecUOG3W-3ltk"
      },
      "source": [
        "# This is some a data cleaning step\n",
        "to = TabularPandas(df1, procs = [Categorify, FillMissing, Normalize],\n",
        "                   cat_names = df1_cat, cont_names = df1_num,\n",
        "                   y_names = 'duration',\n",
        "                   splits = splits)\n",
        "# This determines batch size\n",
        "dls = to.dataloaders(bs = 4)"
      ],
      "execution_count": 15,
      "outputs": []
    },
    {
      "cell_type": "code",
      "metadata": {
        "id": "-nKFCYyu34g7"
      },
      "source": [
        "# y_range is used so that the model knows it's doing regression\n",
        "# I chose 33 because the max of the training duration is 32\n",
        "# We are using 2 hidden layers, 50 neurons in the first, 25 in the second\n",
        "learn = tabular_learner(dls, y_range = (0, 33), metrics = rmse,\n",
        "                        layers = [50, 25])"
      ],
      "execution_count": 16,
      "outputs": []
    },
    {
      "cell_type": "code",
      "metadata": {
        "id": "AL5DK3oN1IE5",
        "outputId": "022b1b1c-7dc5-46da-fe5a-67e7e93b4b7d",
        "colab": {
          "base_uri": "https://localhost:8080/",
          "height": 300
        }
      },
      "source": [
        "# Use this to figure out what learning rate to use\n",
        "learn.recorder.lr_find()"
      ],
      "execution_count": 17,
      "outputs": [
        {
          "output_type": "display_data",
          "data": {
            "text/html": [
              ""
            ],
            "text/plain": [
              "<IPython.core.display.HTML object>"
            ]
          },
          "metadata": {
            "tags": []
          }
        },
        {
          "output_type": "execute_result",
          "data": {
            "text/plain": [
              "SuggestedLRs(lr_min=0.33113112449646, lr_steep=9.12010818865383e-07)"
            ]
          },
          "metadata": {
            "tags": []
          },
          "execution_count": 17
        },
        {
          "output_type": "display_data",
          "data": {
            "image/png": "[encoded data removed]",
            "text/plain": [
              "<Figure size 432x288 with 1 Axes>"
            ]
          },
          "metadata": {
            "tags": [],
            "needs_background": "light"
          }
        }
      ]
    },
    {
      "cell_type": "code",
      "metadata": {
        "id": "6AWeQ8LgmjRo",
        "outputId": "567f5223-7602-4d19-f97d-9d7307050c92",
        "colab": {
          "base_uri": "https://localhost:8080/",
          "height": 363
        }
      },
      "source": [
        "learn.fit_one_cycle(10, lr_max = 0.33, wd=0.8)"
      ],
      "execution_count": 18,
      "outputs": [
        {
          "output_type": "display_data",
          "data": {
            "text/html": [
              "<table border=\"1\" class=\"dataframe\">\n",
              "  <thead>\n",
              "    <tr style=\"text-align: left;\">\n",
              "      <th>epoch</th>\n",
              "      <th>train_loss</th>\n",
              "      <th>valid_loss</th>\n",
              "      <th>_rmse</th>\n",
              "      <th>time</th>\n",
              "    </tr>\n",
              "  </thead>\n",
              "  <tbody>\n",
              "    <tr>\n",
              "      <td>0</td>\n",
              "      <td>38.665936</td>\n",
              "      <td>51.996895</td>\n",
              "      <td>7.210887</td>\n",
              "      <td>00:00</td>\n",
              "    </tr>\n",
              "    <tr>\n",
              "      <td>1</td>\n",
              "      <td>30.488955</td>\n",
              "      <td>14.475944</td>\n",
              "      <td>3.804726</td>\n",
              "      <td>00:00</td>\n",
              "    </tr>\n",
              "    <tr>\n",
              "      <td>2</td>\n",
              "      <td>29.485437</td>\n",
              "      <td>14.556060</td>\n",
              "      <td>3.815240</td>\n",
              "      <td>00:00</td>\n",
              "    </tr>\n",
              "    <tr>\n",
              "      <td>3</td>\n",
              "      <td>27.408520</td>\n",
              "      <td>14.701720</td>\n",
              "      <td>3.834282</td>\n",
              "      <td>00:00</td>\n",
              "    </tr>\n",
              "    <tr>\n",
              "      <td>4</td>\n",
              "      <td>26.895691</td>\n",
              "      <td>15.432599</td>\n",
              "      <td>3.928435</td>\n",
              "      <td>00:00</td>\n",
              "    </tr>\n",
              "    <tr>\n",
              "      <td>5</td>\n",
              "      <td>27.436529</td>\n",
              "      <td>14.351961</td>\n",
              "      <td>3.788399</td>\n",
              "      <td>00:00</td>\n",
              "    </tr>\n",
              "    <tr>\n",
              "      <td>6</td>\n",
              "      <td>26.080399</td>\n",
              "      <td>14.335310</td>\n",
              "      <td>3.786200</td>\n",
              "      <td>00:00</td>\n",
              "    </tr>\n",
              "    <tr>\n",
              "      <td>7</td>\n",
              "      <td>24.725805</td>\n",
              "      <td>14.350292</td>\n",
              "      <td>3.788178</td>\n",
              "      <td>00:00</td>\n",
              "    </tr>\n",
              "    <tr>\n",
              "      <td>8</td>\n",
              "      <td>24.827246</td>\n",
              "      <td>14.479972</td>\n",
              "      <td>3.805256</td>\n",
              "      <td>00:00</td>\n",
              "    </tr>\n",
              "    <tr>\n",
              "      <td>9</td>\n",
              "      <td>25.183435</td>\n",
              "      <td>14.416428</td>\n",
              "      <td>3.796897</td>\n",
              "      <td>00:00</td>\n",
              "    </tr>\n",
              "  </tbody>\n",
              "</table>"
            ],
            "text/plain": [
              "<IPython.core.display.HTML object>"
            ]
          },
          "metadata": {
            "tags": []
          }
        }
      ]
    },
    {
      "cell_type": "markdown",
      "metadata": {
        "id": "hGU6z8O6sXjX"
      },
      "source": [
        ""
      ]
    },
    {
      "cell_type": "code",
      "metadata": {
        "id": "4PhAHxOHIo-U"
      },
      "source": [
        "# Load the test set\n",
        "df2 = pd.read_csv(path/'test_level1.csv')"
      ],
      "execution_count": 19,
      "outputs": []
    },
    {
      "cell_type": "code",
      "metadata": {
        "id": "M1bLMLTEm7nb",
        "outputId": "11421146-79b2-4387-dc14-6dfac0402aaa",
        "colab": {
          "base_uri": "https://localhost:8080/",
          "height": 36
        }
      },
      "source": [
        "# Look at the first column\n",
        "list(df2.columns)[0]"
      ],
      "execution_count": 20,
      "outputs": [
        {
          "output_type": "execute_result",
          "data": {
            "application/vnd.google.colaboratory.intrinsic+json": {
              "type": "string"
            },
            "text/plain": [
              "'Unnamed: 0'"
            ]
          },
          "metadata": {
            "tags": []
          },
          "execution_count": 20
        }
      ]
    },
    {
      "cell_type": "code",
      "metadata": {
        "id": "pSwI3bUFnJh3"
      },
      "source": [
        "# Remove the id column from R's dataframe\n",
        "del df2['Unnamed: 0']"
      ],
      "execution_count": 21,
      "outputs": []
    },
    {
      "cell_type": "code",
      "metadata": {
        "id": "fRUKV8o8T6d9"
      },
      "source": [
        "# Convert confirmed date into datetime\n",
        "df2['confirmed'] = pd.to_datetime(df2['confirmed'])\n",
        "df2['confirmed'] = (df2['confirmed'] - pd.to_datetime('1970-01-01')).dt.total_seconds()"
      ],
      "execution_count": 22,
      "outputs": []
    },
    {
      "cell_type": "code",
      "metadata": {
        "id": "48cDKMVV883c"
      },
      "source": [
        "# Create the test set data frame\n",
        "dl = learn.dls.test_dl(df2)"
      ],
      "execution_count": 23,
      "outputs": []
    },
    {
      "cell_type": "code",
      "metadata": {
        "id": "TJXOyIF89HdI",
        "outputId": "bb774839-c60b-40ec-97ac-30b90c423661",
        "colab": {
          "base_uri": "https://localhost:8080/",
          "height": 17
        }
      },
      "source": [
        "# Get the predictions from the model on the test set\n",
        "p1 = learn.get_preds(dl = dl)"
      ],
      "execution_count": 24,
      "outputs": [
        {
          "output_type": "display_data",
          "data": {
            "text/html": [
              ""
            ],
            "text/plain": [
              "<IPython.core.display.HTML object>"
            ]
          },
          "metadata": {
            "tags": []
          }
        }
      ]
    },
    {
      "cell_type": "code",
      "metadata": {
        "id": "L6Lmrk0Z9WAE"
      },
      "source": [
        "# Get the list of predictions\n",
        "p2 = p1[0].tolist()"
      ],
      "execution_count": 25,
      "outputs": []
    },
    {
      "cell_type": "code",
      "metadata": {
        "id": "fSm_-fh2_SKb",
        "outputId": "958bf853-e4d5-40dc-e8b0-6e90c7bee7ba",
        "colab": {
          "base_uri": "https://localhost:8080/",
          "height": 34
        }
      },
      "source": [
        "# Print the predictions to a csv file\n",
        "with open('testing.csv', mode='w') as employee_file:\n",
        "  employee_writer = csv.writer(employee_file, delimiter = ',',\n",
        "                               quotechar = '\"', quoting = csv.QUOTE_MINIMAL)\n",
        "  employee_writer.writerow(p2)\n",
        "print(\"Done\")"
      ],
      "execution_count": 26,
      "outputs": [
        {
          "output_type": "stream",
          "text": [
            "Done\n"
          ],
          "name": "stdout"
        }
      ]
    }
  ]
}