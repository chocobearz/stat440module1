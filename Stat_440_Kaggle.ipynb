{
  "nbformat": 4,
  "nbformat_minor": 0,
  "metadata": {
    "colab": {
      "name": "Stat 440 Kaggle.ipynb",
      "provenance": [],
      "collapsed_sections": []
    },
    "kernelspec": {
      "name": "python3",
      "display_name": "Python 3"
    }
  },
  "cells": [
    {
      "cell_type": "code",
      "metadata": {
        "id": "zAEtzJjuPIbc"
      },
      "source": [
        "# Install fastai\n",
        "!pip install fastai -q\n",
        "!pip install fastai --upgrade"
      ],
      "execution_count": null,
      "outputs": []
    },
    {
      "cell_type": "code",
      "metadata": {
        "id": "imxkAzOYrhy9"
      },
      "source": [
        "from fastai.tabular.all import *\n",
        "import pandas as pd\n",
        "import csv"
      ],
      "execution_count": 166,
      "outputs": []
    },
    {
      "cell_type": "code",
      "metadata": {
        "id": "XahODcyrqqNo"
      },
      "source": [
        "# Load the csv as a dataframe\n",
        "path = Path(\".\")\n",
        "df1 = pd.read_csv(path/'merged_df1.csv')\n",
        "# Remove the id column from R's dataframe\n",
        "del df1['Unnamed: 0']"
      ],
      "execution_count": 167,
      "outputs": []
    },
    {
      "cell_type": "code",
      "metadata": {
        "id": "9mwEkeY0tWbB",
        "outputId": "090c2b45-a267-48c9-cda9-d60e6a4972e1",
        "colab": {
          "base_uri": "https://localhost:8080/",
          "height": 280
        }
      },
      "source": [
        "df1.head"
      ],
      "execution_count": 168,
      "outputs": [
        {
          "output_type": "execute_result",
          "data": {
            "text/plain": [
              "<bound method NDFrame.head of     age    sex   city  ... chest pain diarrhoea physical discomfort\n",
              "0     1  6a50b  7a6d2  ...      False     False               False\n",
              "1    40  6a50b  593f0  ...      False     False               False\n",
              "2    56  8ef1a  17787  ...      False     False               False\n",
              "3    44  6a50b  a3f17  ...      False     False               False\n",
              "4    31  8ef1a  8538a  ...      False     False               False\n",
              "..   ..    ...    ...  ...        ...       ...                 ...\n",
              "633  75  8a467  d7cac  ...      False     False               False\n",
              "634  80  1e6ee  c4d2f  ...      False     False               False\n",
              "635  55  8a467  bc45c  ...      False     False               False\n",
              "636  57  d516d  73c3e  ...      False     False               False\n",
              "637  51  8a467  56626  ...      False     False               False\n",
              "\n",
              "[638 rows x 86 columns]>"
            ]
          },
          "metadata": {
            "tags": []
          },
          "execution_count": 168
        }
      ]
    },
    {
      "cell_type": "code",
      "metadata": {
        "id": "bP5BAqzutZLy",
        "outputId": "addb55a8-1a05-46b5-f020-3b135471e30e",
        "colab": {
          "base_uri": "https://localhost:8080/",
          "height": 260
        }
      },
      "source": [
        "print(df1)"
      ],
      "execution_count": 169,
      "outputs": [
        {
          "output_type": "stream",
          "text": [
            "    age    sex   city  ... chest pain diarrhoea physical discomfort\n",
            "0     1  6a50b  7a6d2  ...      False     False               False\n",
            "1    40  6a50b  593f0  ...      False     False               False\n",
            "2    56  8ef1a  17787  ...      False     False               False\n",
            "3    44  6a50b  a3f17  ...      False     False               False\n",
            "4    31  8ef1a  8538a  ...      False     False               False\n",
            "..   ..    ...    ...  ...        ...       ...                 ...\n",
            "633  75  8a467  d7cac  ...      False     False               False\n",
            "634  80  1e6ee  c4d2f  ...      False     False               False\n",
            "635  55  8a467  bc45c  ...      False     False               False\n",
            "636  57  d516d  73c3e  ...      False     False               False\n",
            "637  51  8a467  56626  ...      False     False               False\n",
            "\n",
            "[638 rows x 86 columns]\n"
          ],
          "name": "stdout"
        }
      ]
    },
    {
      "cell_type": "code",
      "metadata": {
        "id": "qfPQHo2App_y",
        "outputId": "e4251047-dc25-4fe6-83c2-207f4e793903",
        "colab": {
          "base_uri": "https://localhost:8080/",
          "height": 36
        }
      },
      "source": [
        "list(df1.columns)[5]"
      ],
      "execution_count": 170,
      "outputs": [
        {
          "output_type": "execute_result",
          "data": {
            "application/vnd.google.colaboratory.intrinsic+json": {
              "type": "string"
            },
            "text/plain": [
              "'V1'"
            ]
          },
          "metadata": {
            "tags": []
          },
          "execution_count": 170
        }
      ]
    },
    {
      "cell_type": "code",
      "metadata": {
        "id": "L2EzFGGCnqhb",
        "outputId": "99c60be6-8f32-4bac-fcc8-4884ab90b22a",
        "colab": {
          "base_uri": "https://localhost:8080/",
          "height": 36
        }
      },
      "source": [
        "list(df1.columns)[6]"
      ],
      "execution_count": 171,
      "outputs": [
        {
          "output_type": "execute_result",
          "data": {
            "application/vnd.google.colaboratory.intrinsic+json": {
              "type": "string"
            },
            "text/plain": [
              "'duration'"
            ]
          },
          "metadata": {
            "tags": []
          },
          "execution_count": 171
        }
      ]
    },
    {
      "cell_type": "code",
      "metadata": {
        "id": "Vhv3Dtl0pr93",
        "outputId": "a89e6b87-6d25-4bf8-87b4-aff53eb4d6ec",
        "colab": {
          "base_uri": "https://localhost:8080/",
          "height": 36
        }
      },
      "source": [
        "list(df1.columns)[7]"
      ],
      "execution_count": 172,
      "outputs": [
        {
          "output_type": "execute_result",
          "data": {
            "application/vnd.google.colaboratory.intrinsic+json": {
              "type": "string"
            },
            "text/plain": [
              "'clean_age'"
            ]
          },
          "metadata": {
            "tags": []
          },
          "execution_count": 172
        }
      ]
    },
    {
      "cell_type": "code",
      "metadata": {
        "id": "KlUu-vwOpveL",
        "outputId": "f5592d8b-ae52-4f7f-ff02-cd74980f2895",
        "colab": {
          "base_uri": "https://localhost:8080/",
          "height": 36
        }
      },
      "source": [
        "list(df1.columns)[8]"
      ],
      "execution_count": 173,
      "outputs": [
        {
          "output_type": "execute_result",
          "data": {
            "application/vnd.google.colaboratory.intrinsic+json": {
              "type": "string"
            },
            "text/plain": [
              "'diarrhea'"
            ]
          },
          "metadata": {
            "tags": []
          },
          "execution_count": 173
        }
      ]
    },
    {
      "cell_type": "code",
      "metadata": {
        "id": "yHO4GL78ZZgf"
      },
      "source": [
        "# Get a list of categorical columns\n",
        "df1_cat = list(df1.columns)\n",
        "\n",
        "df1_cat = df1_cat[0:6] + df1_cat[8: ]\n",
        "# Only age and duration are numerical, the others are categorical"
      ],
      "execution_count": 174,
      "outputs": []
    },
    {
      "cell_type": "code",
      "metadata": {
        "id": "M7s8hkQJh45p",
        "outputId": "37392524-e64e-4aea-e381-0d76c69b5f17",
        "colab": {
          "base_uri": "https://localhost:8080/",
          "height": 36
        }
      },
      "source": [
        "# Get a list of numerical columns, not counting the thing we're predicting\n",
        "df1_num = list(df1.columns)[7:8]\n",
        "# The only numerical columns are the age and duration\n",
        "# We don't include duration because we are predicting it\n",
        "list(df1.columns)[7]\n",
        "# This column should be about age"
      ],
      "execution_count": 175,
      "outputs": [
        {
          "output_type": "execute_result",
          "data": {
            "application/vnd.google.colaboratory.intrinsic+json": {
              "type": "string"
            },
            "text/plain": [
              "'clean_age'"
            ]
          },
          "metadata": {
            "tags": []
          },
          "execution_count": 175
        }
      ]
    },
    {
      "cell_type": "code",
      "metadata": {
        "id": "l9-GEDawiLQT"
      },
      "source": [
        "# Use the fast.ai tabular dataloader\n",
        "\n",
        "dls = TabularDataLoaders.from_csv(\n",
        "    path/'merged_df1.csv', y_names = \"duration\",\n",
        "    cat_names = df1_cat, cont_names = df1_num,\n",
        "    procs = [Categorify, FillMissing, Normalize]\n",
        "    )\n",
        "\n",
        "learn = tabular_learner(dls, y_range = (0, 33),  metrics = accuracy)"
      ],
      "execution_count": 176,
      "outputs": []
    },
    {
      "cell_type": "code",
      "metadata": {
        "id": "H1ByGrW7pEtO"
      },
      "source": [
        "# I determined the y_range by using\n",
        "# ```max(merged_df1$duration)```\n",
        "# in R and adding one to the maximum. I remember it being recommended\n",
        "# by the fast.ai prof, I think because the neuron is asymptotic to\n",
        "# the maximum value, I'm not entirely sure."
      ],
      "execution_count": 177,
      "outputs": []
    },
    {
      "cell_type": "code",
      "metadata": {
        "id": "mhdXRFbm3e0B"
      },
      "source": [
        "# Training and validation splits\n",
        "splits = RandomSplitter(valid_pct=0.2)(range_of(df1))"
      ],
      "execution_count": 178,
      "outputs": []
    },
    {
      "cell_type": "code",
      "metadata": {
        "id": "ecUOG3W-3ltk"
      },
      "source": [
        "to = TabularPandas(df1, procs = [Categorify, FillMissing, Normalize],\n",
        "                   cat_names = df1_cat, cont_names = df1_num,\n",
        "                   y_names = 'duration',\n",
        "                   splits = splits)\n",
        "\n",
        "dls = to.dataloaders(bs = 16)"
      ],
      "execution_count": 179,
      "outputs": []
    },
    {
      "cell_type": "code",
      "metadata": {
        "id": "-nKFCYyu34g7"
      },
      "source": [
        "learn = tabular_learner(dls, y_range = (0, 33), metrics = rmse)"
      ],
      "execution_count": 221,
      "outputs": []
    },
    {
      "cell_type": "code",
      "metadata": {
        "id": "6AWeQ8LgmjRo",
        "outputId": "e4c65d97-a6c1-4772-fd21-08a3aa5a6237",
        "colab": {
          "base_uri": "https://localhost:8080/",
          "height": 426
        }
      },
      "source": [
        "learn.fit_one_cycle(12, lr_max = 0.005, wd=0.80, moms=(0.95, 0.95, 0.05))"
      ],
      "execution_count": 223,
      "outputs": [
        {
          "output_type": "display_data",
          "data": {
            "text/html": [
              "<table border=\"1\" class=\"dataframe\">\n",
              "  <thead>\n",
              "    <tr style=\"text-align: left;\">\n",
              "      <th>epoch</th>\n",
              "      <th>train_loss</th>\n",
              "      <th>valid_loss</th>\n",
              "      <th>_rmse</th>\n",
              "      <th>time</th>\n",
              "    </tr>\n",
              "  </thead>\n",
              "  <tbody>\n",
              "    <tr>\n",
              "      <td>0</td>\n",
              "      <td>3.245505</td>\n",
              "      <td>12.706243</td>\n",
              "      <td>3.564582</td>\n",
              "      <td>00:00</td>\n",
              "    </tr>\n",
              "    <tr>\n",
              "      <td>1</td>\n",
              "      <td>4.107022</td>\n",
              "      <td>17.028053</td>\n",
              "      <td>4.126507</td>\n",
              "      <td>00:00</td>\n",
              "    </tr>\n",
              "    <tr>\n",
              "      <td>2</td>\n",
              "      <td>6.310671</td>\n",
              "      <td>15.532588</td>\n",
              "      <td>3.941140</td>\n",
              "      <td>00:00</td>\n",
              "    </tr>\n",
              "    <tr>\n",
              "      <td>3</td>\n",
              "      <td>9.830233</td>\n",
              "      <td>37.481972</td>\n",
              "      <td>6.122253</td>\n",
              "      <td>00:00</td>\n",
              "    </tr>\n",
              "    <tr>\n",
              "      <td>4</td>\n",
              "      <td>10.616019</td>\n",
              "      <td>18.432760</td>\n",
              "      <td>4.293339</td>\n",
              "      <td>00:00</td>\n",
              "    </tr>\n",
              "    <tr>\n",
              "      <td>5</td>\n",
              "      <td>9.453475</td>\n",
              "      <td>13.832024</td>\n",
              "      <td>3.719142</td>\n",
              "      <td>00:00</td>\n",
              "    </tr>\n",
              "    <tr>\n",
              "      <td>6</td>\n",
              "      <td>8.559956</td>\n",
              "      <td>16.367435</td>\n",
              "      <td>4.045669</td>\n",
              "      <td>00:00</td>\n",
              "    </tr>\n",
              "    <tr>\n",
              "      <td>7</td>\n",
              "      <td>8.231226</td>\n",
              "      <td>13.585730</td>\n",
              "      <td>3.685883</td>\n",
              "      <td>00:00</td>\n",
              "    </tr>\n",
              "    <tr>\n",
              "      <td>8</td>\n",
              "      <td>6.325265</td>\n",
              "      <td>12.417013</td>\n",
              "      <td>3.523778</td>\n",
              "      <td>00:00</td>\n",
              "    </tr>\n",
              "    <tr>\n",
              "      <td>9</td>\n",
              "      <td>4.857846</td>\n",
              "      <td>11.091792</td>\n",
              "      <td>3.330434</td>\n",
              "      <td>00:00</td>\n",
              "    </tr>\n",
              "    <tr>\n",
              "      <td>10</td>\n",
              "      <td>3.782959</td>\n",
              "      <td>11.747274</td>\n",
              "      <td>3.427430</td>\n",
              "      <td>00:00</td>\n",
              "    </tr>\n",
              "    <tr>\n",
              "      <td>11</td>\n",
              "      <td>3.012222</td>\n",
              "      <td>10.896247</td>\n",
              "      <td>3.300946</td>\n",
              "      <td>00:00</td>\n",
              "    </tr>\n",
              "  </tbody>\n",
              "</table>"
            ],
            "text/plain": [
              "<IPython.core.display.HTML object>"
            ]
          },
          "metadata": {
            "tags": []
          }
        }
      ]
    },
    {
      "cell_type": "markdown",
      "metadata": {
        "id": "hGU6z8O6sXjX"
      },
      "source": [
        ""
      ]
    },
    {
      "cell_type": "code",
      "metadata": {
        "id": "AL5DK3oN1IE5"
      },
      "source": [
        "learn.export()"
      ],
      "execution_count": 224,
      "outputs": []
    },
    {
      "cell_type": "code",
      "metadata": {
        "id": "4PhAHxOHIo-U"
      },
      "source": [
        "df2 = pd.read_csv(path/'test2_cleaned.csv')"
      ],
      "execution_count": 225,
      "outputs": []
    },
    {
      "cell_type": "code",
      "metadata": {
        "id": "M1bLMLTEm7nb",
        "outputId": "e3bab645-10f4-4f36-923e-a101d846a295",
        "colab": {
          "base_uri": "https://localhost:8080/",
          "height": 36
        }
      },
      "source": [
        "list(df2.columns)[0]"
      ],
      "execution_count": 226,
      "outputs": [
        {
          "output_type": "execute_result",
          "data": {
            "application/vnd.google.colaboratory.intrinsic+json": {
              "type": "string"
            },
            "text/plain": [
              "'Unnamed: 0'"
            ]
          },
          "metadata": {
            "tags": []
          },
          "execution_count": 226
        }
      ]
    },
    {
      "cell_type": "code",
      "metadata": {
        "id": "pSwI3bUFnJh3"
      },
      "source": [
        "# Remove the id column from R's dataframe\n",
        "del df2['Unnamed: 0']"
      ],
      "execution_count": 227,
      "outputs": []
    },
    {
      "cell_type": "code",
      "metadata": {
        "id": "2101yj7BryLJ"
      },
      "source": [
        "splits2 = RandomSplitter(valid_pct=0.2)(range_of(df2))"
      ],
      "execution_count": 228,
      "outputs": []
    },
    {
      "cell_type": "code",
      "metadata": {
        "id": "48cDKMVV883c"
      },
      "source": [
        "# test_df = df2\n",
        "# test_df.drop(['duration'], axis=1, inplace=True)\n",
        "dl = learn.dls.test_dl(df2)"
      ],
      "execution_count": 231,
      "outputs": []
    },
    {
      "cell_type": "code",
      "metadata": {
        "id": "TJXOyIF89HdI",
        "outputId": "0d1a1706-977b-415e-f862-f4bdc4dc67a6",
        "colab": {
          "base_uri": "https://localhost:8080/",
          "height": 17
        }
      },
      "source": [
        "p1 = learn.get_preds(dl = dl)"
      ],
      "execution_count": 232,
      "outputs": [
        {
          "output_type": "display_data",
          "data": {
            "text/html": [
              ""
            ],
            "text/plain": [
              "<IPython.core.display.HTML object>"
            ]
          },
          "metadata": {
            "tags": []
          }
        }
      ]
    },
    {
      "cell_type": "code",
      "metadata": {
        "id": "L6Lmrk0Z9WAE"
      },
      "source": [
        "p2 = p1[0].tolist()"
      ],
      "execution_count": 233,
      "outputs": []
    },
    {
      "cell_type": "code",
      "metadata": {
        "id": "fSm_-fh2_SKb",
        "outputId": "3a1f29b5-3c88-40c7-b548-4149c48477f4",
        "colab": {
          "base_uri": "https://localhost:8080/",
          "height": 34
        }
      },
      "source": [
        " with open('testing.csv', mode='w') as employee_file:\n",
        "   employee_writer = csv.writer(employee_file, delimiter = ',',\n",
        "                                quotechar = '\"', quoting = csv.QUOTE_MINIMAL)\n",
        "   employee_writer.writerow(p2)\n",
        "print(\"Done\")"
      ],
      "execution_count": 234,
      "outputs": [
        {
          "output_type": "stream",
          "text": [
            "Done\n"
          ],
          "name": "stdout"
        }
      ]
    }
  ]
}